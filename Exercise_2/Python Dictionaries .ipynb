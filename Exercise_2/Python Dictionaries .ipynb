{
 "cells": [
  {
   "cell_type": "code",
   "execution_count": null,
   "id": "ebd777ef-6bf2-489d-966c-d3018f980cbb",
   "metadata": {},
   "outputs": [],
   "source": [
    "# Student Gradebook\n",
    "\n",
    "Dict={\"salman\":{'Maths':67,'English':89,},\"khan\":{'Maths':76,'English':56},\n",
    "      \"alyan\":{'Maths':67,'English':98},\"sheri\":{'Maths':67,'English':89},\n",
    "      \"khalid\":{'Maths':67,'English':45},\"shahrukh\":{'Maths':87,'English':54}}\n",
    "print(Dict['sheri'])"
   ]
  },
  {
   "cell_type": "code",
   "execution_count": null,
   "id": "cc39a5b1-1ba1-40f6-ac86-5b46ae031e5e",
   "metadata": {},
   "outputs": [],
   "source": [
    "# Word Counter \n",
    "\n",
    "paragraph=\"To change the overall look of your document, choose new Theme elements on the Page Layout tab.\" \\\n",
    "\" To change the looks available in the Quick Style gallery, use the Change Current Quick Style Set command.\" \\\n",
    "\" Both the Themes gallery and the Quick Styles gallery provide reset commands so that you can always restore\" \\\n",
    "\" the look of your document to the original contained in your current template.\"    \n",
    "words=paragraph.lower().split()\n",
    "word_count={}\n",
    "for word in words:\n",
    "    if word in word_count:\n",
    "        word_count[word] +=1\n",
    "    else:\n",
    "        word_count[word] =1\n",
    "print(word_count)\n"
   ]
  },
  {
   "cell_type": "code",
   "execution_count": null,
   "id": "3c503935-9d17-47bf-acdb-aee50c63b0dc",
   "metadata": {},
   "outputs": [],
   "source": [
    "# Frequency of Characters \n",
    "\n",
    "name=input(\"Enter the name:\")\n",
    "character_count={}\n",
    "for char in name:\n",
    "    if char in character_count:\n",
    "        character_count[char]+=1\n",
    "    else:\n",
    "        character_count[char]=1\n",
    "print(character_count)"
   ]
  },
  {
   "cell_type": "code",
   "execution_count": null,
   "id": "e00f4e66-c5e2-4061-be9b-d9fbaedb5048",
   "metadata": {},
   "outputs": [],
   "source": [
    "# Key with Max Value \n",
    "\n",
    "products={\"Rolex\":500,\"Rado\":250,\"Casio\":100}\n",
    "Expensive=max(products,key=products.get)\n",
    "print(f\"The expensive item is {Expensive} with a value of {products[Expensive]}\")\n"
   ]
  },
  {
   "cell_type": "code",
   "execution_count": null,
   "id": "50a14253-52fa-432b-9a66-275eca01d43c",
   "metadata": {},
   "outputs": [],
   "source": [
    "# Merge Dictionaries \n",
    "\n",
    "D_1={\"Apple\":\"red\",\"Grapes\":\"green\",\"banana\":\"yellow\"}\n",
    "D_2={\"orange\":\"orange\",\"Apple\":\"green\",\"Guava\":\"green\"}\n",
    "D_1.update(D_2)\n",
    "print(D_1)"
   ]
  }
 ],
 "metadata": {
  "kernelspec": {
   "display_name": "Python [conda env:base] *",
   "language": "python",
   "name": "conda-base-py"
  },
  "language_info": {
   "codemirror_mode": {
    "name": "ipython",
    "version": 3
   },
   "file_extension": ".py",
   "mimetype": "text/x-python",
   "name": "python",
   "nbconvert_exporter": "python",
   "pygments_lexer": "ipython3",
   "version": "3.12.7"
  }
 },
 "nbformat": 4,
 "nbformat_minor": 5
}
