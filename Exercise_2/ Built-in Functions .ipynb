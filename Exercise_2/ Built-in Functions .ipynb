{
 "cells": [
  {
   "cell_type": "code",
   "execution_count": null,
   "id": "31bceafc-60b8-43fa-b16c-cdfd5064dfd3",
   "metadata": {},
   "outputs": [],
   "source": [
    "# List Stats \n",
    "\n",
    "list_1=[1,2,3,4,5,6]\n",
    "print(f\"The min is : {min(list_1)} The max is : {max(list_1)} The Sum is : {sum(list_1)}\")\n",
    "print(\"The average is : \",sum(list_1)/len(list_1))"
   ]
  },
  {
   "cell_type": "code",
   "execution_count": null,
   "id": "4a49b3e6-d6c4-4bc3-a4d7-f2dbfd272050",
   "metadata": {},
   "outputs": [],
   "source": [
    "# String Case Counter \n",
    "\n",
    "name=input(\"Eneter a name:\")\n",
    "upper_count=0\n",
    "lower_count=0\n",
    "for i in name:\n",
    "    if i.isupper():\n",
    "        upper_count+=1        \n",
    "    else:\n",
    "        lower_count+=1\n",
    "print(f\"Capital letters:{upper_count}\")\n",
    "print(f\"Small letters:{lower_count}\")"
   ]
  },
  {
   "cell_type": "code",
   "execution_count": null,
   "id": "c591e1c9-541e-465a-8058-fc34be006844",
   "metadata": {},
   "outputs": [],
   "source": [
    "# Sorted Even Numbers \n",
    "\n",
    "list_1=[10,18,14,33,24,36,88,78,34,99]\n",
    "even_number=[num for num in list_1 if num%2==0]\n",
    "even_number.sort(reverse=True)   \n",
    "print(f\"The even numbers in list are:{even_number} in descending order\")"
   ]
  },
  {
   "cell_type": "code",
   "execution_count": null,
   "id": "364aa8a1-a549-4435-9a3c-ec03ac2ae038",
   "metadata": {},
   "outputs": [],
   "source": [
    "# Custom Round-off \n",
    "\n",
    "float_num=float(input(\"Enter a decimal number : \"))\n",
    "print(round(float_num,2))"
   ]
  },
  {
   "cell_type": "code",
   "execution_count": null,
   "id": "d13b5cbc-44de-4b48-873c-424206f4ce63",
   "metadata": {},
   "outputs": [],
   "source": [
    "# ASCII Value Finder\n",
    "\n",
    "character=input(\"Enter a character : \")\n",
    "print(f\"The ASCII  Code of a character is : {ord(character)}\")"
   ]
  },
  {
   "cell_type": "code",
   "execution_count": null,
   "id": "b81862bb-420a-40f6-ae78-a96c041e3efc",
   "metadata": {},
   "outputs": [],
   "source": []
  }
 ],
 "metadata": {
  "kernelspec": {
   "display_name": "Python [conda env:base] *",
   "language": "python",
   "name": "conda-base-py"
  },
  "language_info": {
   "codemirror_mode": {
    "name": "ipython",
    "version": 3
   },
   "file_extension": ".py",
   "mimetype": "text/x-python",
   "name": "python",
   "nbconvert_exporter": "python",
   "pygments_lexer": "ipython3",
   "version": "3.12.7"
  }
 },
 "nbformat": 4,
 "nbformat_minor": 5
}
