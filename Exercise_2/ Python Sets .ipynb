{
 "cells": [
  {
   "cell_type": "code",
   "execution_count": null,
   "id": "f7780a92-49af-43d6-8d8d-86a43aa4c38f",
   "metadata": {},
   "outputs": [],
   "source": [
    "# Set Union and Intersection \n",
    "\n",
    "set_1=set(input(\"Enter the first set:\"))\n",
    "set_2=set(input(\"Enter the second set:\"))\n",
    "print(f\"The union is : {sorted(set_1.union(set_2))}\")\n",
    "print(f\"The intersection is : {sorted(set_1.intersection(set_2))}\")"
   ]
  },
  {
   "cell_type": "code",
   "execution_count": null,
   "id": "87e701c0-89e9-4226-99be-6664973adf37",
   "metadata": {},
   "outputs": [],
   "source": [
    "# Unique Elements from List\n",
    "\n",
    "list=[1,2,3,4,4,5,5,6,7,8,8]\n",
    "set=set(list)\n",
    "print(set)\n"
   ]
  },
  {
   "cell_type": "code",
   "execution_count": null,
   "id": "5e785e5c-3610-403d-bf2b-5eafd5150813",
   "metadata": {},
   "outputs": [],
   "source": [
    "# Subset and Superset Check\n",
    "\n",
    "set_1={2,4,6,8,10}\n",
    "set_2={1,2,3,4,5,6,7,8,9,10}\n",
    "if set_1.issubset(set_2):\n",
    "    print(f\"The set1{set_1} is the subset of set2 {set_2}\")\n",
    "elif set_1.issuperset(set_2):\n",
    "    print(f\"The set1 {set_1} is supperset of set2 {set_2}\")\n",
    "else:\n",
    "    print(\"The set1 is nor subset and nor superset\")\n"
   ]
  },
  {
   "cell_type": "code",
   "execution_count": null,
   "id": "aa338e20-5c4b-4051-88bf-295817807857",
   "metadata": {},
   "outputs": [],
   "source": [
    "# Common Elements Finder \n",
    "\n",
    "list_1=list(input(\"Enter the first list: \"))\n",
    "list_2=list(input(\"Enter the second list: \"))\n",
    "set_1=set(list_1)\n",
    "set_2=set(list_2)\n",
    "common_elements=set_1.intersection(set_2)\n",
    "print(f\"common elements in the two lists are: {common_elements}\")"
   ]
  },
  {
   "cell_type": "code",
   "execution_count": null,
   "id": "65d95425-c75a-45e0-82eb-372ec39c786d",
   "metadata": {},
   "outputs": [],
   "source": [
    "# Symmetric Difference Demo\n",
    "\n",
    "set_1={1,2,3,4,5}\n",
    "set_2={4,5,6,7,8}\n",
    "print(set_1.symmetric_difference(set_2))\n",
    "#wo elements jo set_1 mein he or set_2 mein nhi he, and wo jo set_2 mein he or set_1 mein nhi he. \n"
   ]
  }
 ],
 "metadata": {
  "kernelspec": {
   "display_name": "Python [conda env:base] *",
   "language": "python",
   "name": "conda-base-py"
  },
  "language_info": {
   "codemirror_mode": {
    "name": "ipython",
    "version": 3
   },
   "file_extension": ".py",
   "mimetype": "text/x-python",
   "name": "python",
   "nbconvert_exporter": "python",
   "pygments_lexer": "ipython3",
   "version": "3.12.7"
  }
 },
 "nbformat": 4,
 "nbformat_minor": 5
}
