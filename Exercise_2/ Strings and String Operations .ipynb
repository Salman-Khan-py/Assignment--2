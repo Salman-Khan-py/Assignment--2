{
 "cells": [
  {
   "cell_type": "code",
   "execution_count": null,
   "id": "b428cfbf-eb71-428f-a668-bfa7f08f9963",
   "metadata": {},
   "outputs": [],
   "source": [
    "# Palindrome Checker\n",
    "\n",
    "word=input(\"Enter a word for checking that the word is palindrom or not :\")\n",
    "palindrom= word==word[::-1]\n",
    "if palindrom:\n",
    "    print(\"The word is palindrom\")\n",
    "else:\n",
    "    print(\"The word is not palindrom\")\n"
   ]
  },
  {
   "cell_type": "code",
   "execution_count": null,
   "id": "341fbfa7-fea9-4a01-a567-ec8334c6afc2",
   "metadata": {},
   "outputs": [],
   "source": [
    "# Word Frequency Counter\n",
    "\n",
    "sentence=\"Hey! this is salman from Pakistan.\"\n",
    "split=sentence.split(\" \")\n",
    "print(len(split[3]))\n",
    "print(split)"
   ]
  },
  {
   "cell_type": "code",
   "execution_count": null,
   "id": "c3c67ec1-1b2b-43cd-a64e-71b8b7608279",
   "metadata": {},
   "outputs": [],
   "source": [
    "# Vowel and Consonant Counter\n",
    "\n",
    "sentence=\"I'm salman and 21 yrs old.\"\n",
    "Vowel='aeiou'\n",
    "vowel=0\n",
    "consonants=0\n",
    "for i in sentence:\n",
    "    if i in Vowel:     \n",
    "    if i==\"a\" or \"e\" or \"i\" or \"o\" or \"u\":\n",
    "        vowel+=1\n",
    "    else:\n",
    "        consonants+=1\n",
    "print(f\"The vowels are {vowel} is in sentence\")\n",
    "print(f\"The consonants are {consonants} is in sentence\")"
   ]
  },
  {
   "cell_type": "code",
   "execution_count": null,
   "id": "0a5b7a04-17b6-47c4-8d45-261d8f264870",
   "metadata": {},
   "outputs": [],
   "source": [
    "#  Remove Punctuation \n",
    "\n",
    "sentence=\"Hello! boys, how are u doing?\"\n",
    "for char in sentence:\n",
    "    if char.isspace():\n",
    "        print(\" \", end=\"\")\n",
    "    elif char.isalpha():\n",
    "        print(char, end=\"\")\n"
   ]
  },
  {
   "cell_type": "code",
   "execution_count": null,
   "id": "f1511e04-8d85-4634-bac2-22e780035945",
   "metadata": {},
   "outputs": [],
   "source": [
    "# Longest Word Finder\n",
    "\n",
    "sentence=\"Hey what are u doing today?\"\n",
    "name=\"\"\n",
    "large=\"\"\n",
    "for char in sentence:\n",
    "    name+=char\n",
    "    if len(large)<len(name):\n",
    "        large=name\n",
    "    if char.isspace():\n",
    "        name=\"\"\n",
    "print(large)"
   ]
  }
 ],
 "metadata": {
  "kernelspec": {
   "display_name": "Python [conda env:base] *",
   "language": "python",
   "name": "conda-base-py"
  },
  "language_info": {
   "codemirror_mode": {
    "name": "ipython",
    "version": 3
   },
   "file_extension": ".py",
   "mimetype": "text/x-python",
   "name": "python",
   "nbconvert_exporter": "python",
   "pygments_lexer": "ipython3",
   "version": "3.12.7"
  }
 },
 "nbformat": 4,
 "nbformat_minor": 5
}
