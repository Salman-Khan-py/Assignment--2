{
 "cells": [
  {
   "cell_type": "code",
   "execution_count": null,
   "id": "68ed0e95-5623-40bc-84a4-a614cd480f86",
   "metadata": {},
   "outputs": [],
   "source": [
    "# Grade Evaluator\n",
    "\n",
    "marks=int(input(\"Enter a Marks : \"))\n",
    "if marks > 100:\n",
    "    print(\"Plzz Enter the marks under 100\")\n",
    "else:\n",
    "    if marks >= 90 and marks < 100:\n",
    "        print(\"Grade A\")\n",
    "    elif marks < 90 and marks >=80:\n",
    "        print(\"Grade B\")\n",
    "    elif marks < 80 and marks >=70:\n",
    "        print(\"Grade C\")\n",
    "    elif marks < 70:\n",
    "        print(\"Fail\")\n"
   ]
  },
  {
   "cell_type": "code",
   "execution_count": null,
   "id": "46f73586-92fa-4d2b-9d6f-e6230bba243b",
   "metadata": {},
   "outputs": [],
   "source": [
    "# Leap Year Checker\n",
    "\n",
    "year=int(input(\"Enter the year for checking the year is leap or not :\"))\n",
    "if year%4==0:\n",
    "    if year%100!=0 or year%400==0:\n",
    "        print(\"The year is a leap\")\n",
    "    else:\n",
    "        print(\"The year is not a leap\")\n",
    "else:\n",
    "    print(\"The year is not a leap\")\n"
   ]
  },
  {
   "cell_type": "code",
   "execution_count": null,
   "id": "9ad0b176-0435-42c0-a16d-7863bfe3ed62",
   "metadata": {},
   "outputs": [],
   "source": [
    "# Largest of Three Numbers \n",
    "num_1=int(input(\"Enter the first number:\"))\n",
    "num_2=int(input(\"Enter the second number:\"))\n",
    "num_3=int(input(\"Enter the third number:\"))\n",
    "if num_1>num_2 and num_1>num_3:\n",
    "    print(f\"num_1 {num_1} is greater\")\n",
    "elif num_2>num_1 and num_2>num_3:\n",
    "    print(f\" num_2 {num_2} is greater\")\n",
    "else:\n",
    "    print(f\"num_3 {num_3} is greater\")\n"
   ]
  },
  {
   "cell_type": "code",
   "execution_count": null,
   "id": "d6aab3c9-f719-4db2-812c-4c527a5f8135",
   "metadata": {},
   "outputs": [],
   "source": [
    "# Traffic Light Simulator \n",
    "\n",
    "color=input(\"Enter a color : \")\n",
    "if color == \"red\" or color == \"Red\" or color == \"RED\":\n",
    "    print(\"Stop!\")\n",
    "elif color == \"green\" or color == \"Green\" or color == \"GREEN\":\n",
    "    print(\"Go!\")\n",
    "elif color == \"yellow\" or color == \"Yellow\" or color == \"YELLOW\":\n",
    "    print(\"Wait!\")"
   ]
  },
  {
   "cell_type": "code",
   "execution_count": null,
   "id": "b7ceac44-0b11-404a-b8bd-39da9714d536",
   "metadata": {},
   "outputs": [],
   "source": [
    "# Simple Calculator with Conditions\n",
    "\n",
    "num1=int(input(\"Enter a number 1 : \"))\n",
    "operator=input(\"Enter an Operator : \")\n",
    "num2=int(input(\"Enter a number 2 : \"))\n",
    "if operator == \"+\":\n",
    "    print(\"The sum is : \",num1+num2)\n",
    "elif operator == \"*\":\n",
    "    print(\"The product is : \", num1*num2)\n",
    "elif operator == \"-\":\n",
    "    print(\"The differ is : \", num1-num2)\n",
    "elif operator == \"/\":\n",
    "    print(\"The division is : \", num1/num2)\n"
   ]
  },
  {
   "cell_type": "code",
   "execution_count": null,
   "id": "9c412e0d-a6d5-4c1c-892d-bf6c4bda80af",
   "metadata": {},
   "outputs": [],
   "source": []
  }
 ],
 "metadata": {
  "kernelspec": {
   "display_name": "Python [conda env:base] *",
   "language": "python",
   "name": "conda-base-py"
  },
  "language_info": {
   "codemirror_mode": {
    "name": "ipython",
    "version": 3
   },
   "file_extension": ".py",
   "mimetype": "text/x-python",
   "name": "python",
   "nbconvert_exporter": "python",
   "pygments_lexer": "ipython3",
   "version": "3.12.7"
  }
 },
 "nbformat": 4,
 "nbformat_minor": 5
}
