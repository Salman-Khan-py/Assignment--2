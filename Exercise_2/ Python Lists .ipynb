{
 "cells": [
  {
   "cell_type": "code",
   "execution_count": null,
   "id": "c6cba332-9991-48a9-8987-435c4858b442",
   "metadata": {},
   "outputs": [],
   "source": [
    "# List Reverser \n",
    "\n",
    "list_3=[1,2,3,5,6,7,8]\n",
    "print(list_3[6:0:-1])"
   ]
  },
  {
   "cell_type": "code",
   "execution_count": null,
   "id": "41278b14-8553-4047-9e7c-4a8189bd9116",
   "metadata": {},
   "outputs": [],
   "source": [
    "# Duplicate Remover \n",
    "\n",
    "list_2=[1,2,3,3,2,1]\n",
    "list2=set(list_2)\n",
    "print(list2)"
   ]
  },
  {
   "cell_type": "code",
   "execution_count": null,
   "id": "a8167029-8f58-4710-80c8-a3fdc767aaa1",
   "metadata": {},
   "outputs": [],
   "source": [
    "# Second Largest Element \n",
    "\n",
    "list_1=[45,57,88,98,36,23,101,103,]\n",
    "list_reverse=sorted(list_1,reverse=True)\n",
    "print(f\"The second largest number in the list is {list_reverse[1]}:\")"
   ]
  },
  {
   "cell_type": "code",
   "execution_count": null,
   "id": "2217d11a-2c53-4a06-96f5-df5fb812789e",
   "metadata": {},
   "outputs": [],
   "source": [
    "# List Element Frequency\n",
    "\n",
    "list_1=[44,32,33,34,44,46,47,46,48,48,33,90,88,91,90]\n",
    "list_2=set(list_1)\n",
    "for num in list_2:\n",
    "    frequency=list_1.count(num)\n",
    "    print(f\"{num}:{frequency}\")"
   ]
  },
  {
   "cell_type": "code",
   "execution_count": null,
   "id": "f174aa54-a684-4295-9af9-b4a83570eed2",
   "metadata": {},
   "outputs": [],
   "source": [
    "# Merge and Sort Lists\n",
    "\n",
    "list_1=[7,8,9,10,11,12]\n",
    "list_2=[1,2,3,4,5,6]\n",
    "list_3=list_1+list_2\n",
    "print(list_3)\n",
    "sorting_list=sorted(list_3)\n",
    "print(sorting_list)"
   ]
  },
  {
   "cell_type": "code",
   "execution_count": null,
   "id": "e803af38-7c44-48dc-80e6-4be608d1fa3b",
   "metadata": {},
   "outputs": [],
   "source": []
  }
 ],
 "metadata": {
  "kernelspec": {
   "display_name": "Python [conda env:base] *",
   "language": "python",
   "name": "conda-base-py"
  },
  "language_info": {
   "codemirror_mode": {
    "name": "ipython",
    "version": 3
   },
   "file_extension": ".py",
   "mimetype": "text/x-python",
   "name": "python",
   "nbconvert_exporter": "python",
   "pygments_lexer": "ipython3",
   "version": "3.12.7"
  }
 },
 "nbformat": 4,
 "nbformat_minor": 5
}
