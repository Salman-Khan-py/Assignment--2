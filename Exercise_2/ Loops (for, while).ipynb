{
 "cells": [
  {
   "cell_type": "code",
   "execution_count": null,
   "id": "42c6eaf2-efe2-4a97-8bbf-6804af2a962c",
   "metadata": {},
   "outputs": [],
   "source": [
    "# Sum of First N Numbers\n",
    "\n",
    "num=int(input(\"Enter a number for sum:\"))\n",
    "sum=0\n",
    "for i in range(num):\n",
    "    sum=sum+num\n",
    "    num-=1\n",
    "print(f\"Sum of the first N natural numbers:{sum}\")\n"
   ]
  },
  {
   "cell_type": "code",
   "execution_count": null,
   "id": "cd4b41fc-5cf4-42fe-bf92-30b33bef451b",
   "metadata": {},
   "outputs": [],
   "source": [
    "# Factorial Finder\n",
    "\n",
    "num=int(input(\"Enter a num to find the factorial:\"))\n",
    "factorial=1\n",
    "while num>1:\n",
    "    num*=1\n",
    "    factorial*=num\n",
    "    num-=1\n",
    "print(factorial)"
   ]
  },
  {
   "cell_type": "code",
   "execution_count": null,
   "id": "183fb8be-4171-4bf1-a173-9c7c6fc01bf2",
   "metadata": {},
   "outputs": [],
   "source": [
    "# Multiplication Table Generator \n",
    "\n",
    "num=int(input(\"Enter number for table:\"))\n",
    "for i in range(1,11,1):\n",
    "    print(f\"{num} * {i} = {num*i}\")"
   ]
  },
  {
   "cell_type": "code",
   "execution_count": null,
   "id": "c4c47f2e-ef8c-4e3f-b4d6-03983b013fbd",
   "metadata": {},
   "outputs": [],
   "source": [
    "# Fibonacci Series \n",
    "\n",
    "num=int(input(\"Enter a num for Fibonaci series:\"))\n",
    "fibonaci=0\n",
    "for i in range(num):\n",
    "    i+=1\n",
    "    fibonaci+=i\n",
    "    num-=1\n",
    "print(fibonaci)"
   ]
  },
  {
   "cell_type": "code",
   "execution_count": null,
   "id": "09ea0317-1f91-4c53-97c7-f1a53e31edc2",
   "metadata": {},
   "outputs": [],
   "source": [
    "# Prime Number Between 1 to N \n",
    "\n",
    "num=int(input(\"Enter a number:\"))\n",
    "for i in range(1,num,1):\n",
    "    is_prime=True\n",
    "    for j in range(2,i,1):\n",
    "        if i%j==0:\n",
    "            is_prime=False\n",
    "            break\n",
    "    if is_prime:\n",
    "        print(i)"
   ]
  },
  {
   "cell_type": "code",
   "execution_count": null,
   "id": "0e250a69-5ca9-4464-a3f4-9e0cc812af2a",
   "metadata": {},
   "outputs": [],
   "source": []
  }
 ],
 "metadata": {
  "kernelspec": {
   "display_name": "Python [conda env:base] *",
   "language": "python",
   "name": "conda-base-py"
  },
  "language_info": {
   "codemirror_mode": {
    "name": "ipython",
    "version": 3
   },
   "file_extension": ".py",
   "mimetype": "text/x-python",
   "name": "python",
   "nbconvert_exporter": "python",
   "pygments_lexer": "ipython3",
   "version": "3.12.7"
  }
 },
 "nbformat": 4,
 "nbformat_minor": 5
}
