{
 "cells": [
  {
   "cell_type": "code",
   "execution_count": null,
   "id": "a1352c20-3713-41de-b24a-ae83d07271ef",
   "metadata": {},
   "outputs": [],
   "source": [
    "# Tuple Swapper \n",
    "\n",
    "T_1=(1,2,3,4,5)\n",
    "T_2=(5,4,3,2,1)\n",
    "T_3=()\n",
    "print(f\"The values of tuples before swapping T_1 : {T_1} and T_2 : {T_2}\\n\")\n",
    "T_3=T_1\n",
    "T_1=T_2\n",
    "T_2=T_3\n",
    "print(f\"The values of tuples after swapping T_1 : {T_1} and T_2 : {T_2}\")"
   ]
  },
  {
   "cell_type": "code",
   "execution_count": null,
   "id": "637aa771-200e-4632-82e3-68563373eb6a",
   "metadata": {},
   "outputs": [],
   "source": [
    "# Tuple Reverser\n",
    "\n",
    "T_1=(1,2,3,4,5)\n",
    "print(T_1[::-1])\n"
   ]
  },
  {
   "cell_type": "code",
   "execution_count": null,
   "id": "e9cd71e8-c996-44f3-b98d-c3a45e5f0b6d",
   "metadata": {},
   "outputs": [],
   "source": [
    "# Tuple to String\n",
    "\n",
    "T_1=('M','e','r','c','e','d','e','z')\n",
    "single_string=''.join(T_1)\n",
    "print(single_string)\n"
   ]
  },
  {
   "cell_type": "code",
   "execution_count": null,
   "id": "494e5ba4-a23e-4ee7-a36a-6e327bede6d3",
   "metadata": {},
   "outputs": [],
   "source": [
    "# Element Index Finder \n",
    "\n",
    "Tuple_1=(22,33,44,55,66,77)\n",
    "num=int(input(\"Enter a number to find the index : \"))\n",
    "find=Tuple_1.index(num)\n",
    "print(find)"
   ]
  },
  {
   "cell_type": "code",
   "execution_count": null,
   "id": "24eab7b9-922a-4daa-b0b1-6ccc36a2cdb2",
   "metadata": {},
   "outputs": [],
   "source": [
    "# Immutable Test \n",
    "\n",
    "Tuple_2=(1,2,3,4)\n",
    "Tuple_2[3]=400   \n",
    "print(Tuple_2)\n",
    "# Tuple is immutable."
   ]
  }
 ],
 "metadata": {
  "kernelspec": {
   "display_name": "Python [conda env:base] *",
   "language": "python",
   "name": "conda-base-py"
  },
  "language_info": {
   "codemirror_mode": {
    "name": "ipython",
    "version": 3
   },
   "file_extension": ".py",
   "mimetype": "text/x-python",
   "name": "python",
   "nbconvert_exporter": "python",
   "pygments_lexer": "ipython3",
   "version": "3.12.7"
  }
 },
 "nbformat": 4,
 "nbformat_minor": 5
}
